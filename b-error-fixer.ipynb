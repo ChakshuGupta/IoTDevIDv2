{
 "cells": [
  {
   "cell_type": "code",
   "execution_count": 8,
   "id": "1c0072e7-984c-4f3d-bddb-42d7c1923085",
   "metadata": {},
   "outputs": [
    {
     "data": {
      "text/plain": [
       "['./CSVS\\\\Aalto_test_IoTDevID.csv',\n",
       " './CSVS\\\\Aalto_test_IoTSense.csv',\n",
       " './CSVS\\\\Aalto_test_IoTSentinel.csv',\n",
       " './CSVS\\\\Aalto_train_IoTDevID.csv',\n",
       " './CSVS\\\\Aalto_train_IoTSense.csv',\n",
       " './CSVS\\\\Aalto_train_IoTSentinel.csv',\n",
       " './CSVS\\\\Aalto_validation_IoTDevID.csv',\n",
       " './CSVS\\\\Aalto_validation_IoTSense.csv',\n",
       " './CSVS\\\\Aalto_validation_IoTSentinel.csv',\n",
       " './CSVS\\\\UNSW_test_IoTDevID.csv',\n",
       " './CSVS\\\\UNSW_test_IoTSense.csv',\n",
       " './CSVS\\\\UNSW_test_IoTSentinel.csv',\n",
       " './CSVS\\\\UNSW_train_IoTDevID.csv',\n",
       " './CSVS\\\\UNSW_train_IoTSense.csv',\n",
       " './CSVS\\\\UNSW_train_IoTSentinel.csv',\n",
       " './CSVS\\\\UNSW_validation_IoTDevID.csv',\n",
       " './CSVS\\\\UNSW_validation_IoTSense.csv',\n",
       " './CSVS\\\\UNSW_validation_IoTSentinel.csv']"
      ]
     },
     "execution_count": 8,
     "metadata": {},
     "output_type": "execute_result"
    }
   ],
   "source": [
    "import os\n",
    "import pandas as pd\n",
    "from tqdm import tqdm\n",
    "import warnings\n",
    "warnings.filterwarnings('ignore')\n",
    "def find_the_way(path,file_format):\n",
    "    files_add = []\n",
    "    # r=root, d=directories, f = files\n",
    "    for r, d, f in os.walk(path):\n",
    "        for file in f:\n",
    "            if file_format in file:\n",
    "                files_add.append(os.path.join(r, file))  \n",
    "    return files_add\n",
    "files_add=find_the_way('./CSVS','.csv')\n",
    "files_add"
   ]
  },
  {
   "cell_type": "code",
   "execution_count": 9,
   "id": "da863db9-049d-4eac-abd9-2357532aa934",
   "metadata": {},
   "outputs": [
    {
     "name": "stderr",
     "output_type": "stream",
     "text": [
      "100%|██████████████████████████████████████████████████████████████████████████████████| 18/18 [00:31<00:00,  1.75s/it]\n"
     ]
    }
   ],
   "source": [
    "for i in  tqdm(files_add):\n",
    "    df=pd.read_csv(i)\n",
    "    df.replace('b', 0, inplace=True)\n",
    "    df.to_csv(i,index=False)\n",
    "    #print(i)"
   ]
  }
 ],
 "metadata": {
  "kernelspec": {
   "display_name": "Python 3 (ipykernel)",
   "language": "python",
   "name": "python3"
  },
  "language_info": {
   "codemirror_mode": {
    "name": "ipython",
    "version": 3
   },
   "file_extension": ".py",
   "mimetype": "text/x-python",
   "name": "python",
   "nbconvert_exporter": "python",
   "pygments_lexer": "ipython3",
   "version": "3.10.11"
  }
 },
 "nbformat": 4,
 "nbformat_minor": 5
}
