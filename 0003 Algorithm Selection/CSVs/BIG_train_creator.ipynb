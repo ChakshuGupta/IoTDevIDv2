{
 "cells": [
  {
   "cell_type": "markdown",
   "metadata": {
    "id": "UKYEBdPfw817"
   },
   "source": [
    "#####  The BIG_train_creator file combines the train and validation files to create a larger Train file for final evaluation."
   ]
  },
  {
   "cell_type": "code",
   "execution_count": 8,
   "metadata": {},
   "outputs": [],
   "source": [
    "import pandas as pd\n",
    "import os"
   ]
  },
  {
   "cell_type": "code",
   "execution_count": 9,
   "metadata": {},
   "outputs": [
    {
     "data": {
      "text/plain": [
       "['./Aalto_train_IoTDevID.csv',\n",
       " './Aalto_train_IoTSense.csv',\n",
       " './Aalto_train_IoTSentinel.csv',\n",
       " './UNSW_train_IoTDevID.csv',\n",
       " './UNSW_train_IoTSense.csv',\n",
       " './UNSW_train_IoTSentinel.csv']"
      ]
     },
     "execution_count": 9,
     "metadata": {},
     "output_type": "execute_result"
    }
   ],
   "source": [
    "path=\"./\"\n",
    "def find_the_way(path,file_format):\n",
    "    files_add = []\n",
    "    # r=root, d=directories, f = files\n",
    "    for r, d, f in os.walk(path):\n",
    "        for file in f:\n",
    "            if file_format in file:\n",
    "                files_add.append(os.path.join(r, file))  \n",
    "    return files_add\n",
    "files_add=find_the_way(path,'train')\n",
    "files_add"
   ]
  },
  {
   "cell_type": "code",
   "execution_count": 10,
   "metadata": {},
   "outputs": [
    {
     "data": {
      "text/plain": [
       "['./Aalto_validation_IoTDevID.csv',\n",
       " './Aalto_validation_IoTSense.csv',\n",
       " './Aalto_validation_IoTSentinel.csv',\n",
       " './UNSW_validation_IoTDevID.csv',\n",
       " './UNSW_validation_IoTSense.csv',\n",
       " './UNSW_validation_IoTSentinel.csv']"
      ]
     },
     "execution_count": 10,
     "metadata": {},
     "output_type": "execute_result"
    }
   ],
   "source": [
    "files_add=find_the_way(path,'val')\n",
    "files_add"
   ]
  },
  {
   "cell_type": "code",
   "execution_count": 11,
   "metadata": {},
   "outputs": [],
   "source": [
    "files_add={'./Aalto_train_IoTDevID.csv':'./Aalto_validation_IoTDevID.csv',\n",
    " './Aalto_train_IoTSense.csv':'./Aalto_validation_IoTSense.csv',\n",
    " './Aalto_train_IoTSentinel.csv': './Aalto_validation_IoTSentinel.csv',\n",
    " './UNSW_train_IoTDevID.csv': './UNSW_validation_IoTDevID.csv',\n",
    " './UNSW_train_IoTSense.csv': './UNSW_validation_IoTSense.csv',\n",
    " './UNSW_train_IoTSentinel.csv': './UNSW_validation_IoTSentinel.csv'}"
   ]
  },
  {
   "cell_type": "code",
   "execution_count": 13,
   "metadata": {},
   "outputs": [
    {
     "name": "stderr",
     "output_type": "stream",
     "text": [
      "C:\\Users\\kahra\\AppData\\Local\\Temp\\ipykernel_27652\\2911087544.py:3: DtypeWarning: Columns (35) have mixed types. Specify dtype option on import or set low_memory=False.\n",
      "  df1=pd.read_csv(i)\n",
      "C:\\Users\\kahra\\AppData\\Local\\Temp\\ipykernel_27652\\2911087544.py:4: DtypeWarning: Columns (35) have mixed types. Specify dtype option on import or set low_memory=False.\n",
      "  df2=pd.read_csv(files_add[i])\n"
     ]
    },
    {
     "name": "stdout",
     "output_type": "stream",
     "text": [
      "./Aalto_BIG_train_IoTDevID.csv\n",
      "./Aalto_BIG_train_IoTSense.csv\n",
      "./Aalto_BIG_train_IoTSentinel.csv\n",
      "./UNSW_BIG_train_IoTDevID.csv\n",
      "./UNSW_BIG_train_IoTSense.csv\n",
      "./UNSW_BIG_train_IoTSentinel.csv\n"
     ]
    }
   ],
   "source": [
    "for i in files_add:\n",
    "\n",
    "    df1=pd.read_csv(i)\n",
    "    df2=pd.read_csv(files_add[i])\n",
    "    frames = [df1, df2]\n",
    "    result = pd.concat(frames)\n",
    "    name=i.replace(\"train\",\"BIG_train\")\n",
    "    result.to_csv(name,index=None)\n",
    "    print(name)"
   ]
  }
 ],
 "metadata": {
  "colab": {
   "collapsed_sections": [],
   "name": "(105) feature exracto_colab.ipynb",
   "provenance": []
  },
  "kernelspec": {
   "display_name": "Python 3 (ipykernel)",
   "language": "python",
   "name": "python3"
  },
  "language_info": {
   "codemirror_mode": {
    "name": "ipython",
    "version": 3
   },
   "file_extension": ".py",
   "mimetype": "text/x-python",
   "name": "python",
   "nbconvert_exporter": "python",
   "pygments_lexer": "ipython3",
   "version": "3.10.8"
  }
 },
 "nbformat": 4,
 "nbformat_minor": 1
}
